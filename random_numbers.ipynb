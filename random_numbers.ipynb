{
 "cells": [
  {
   "cell_type": "code",
   "execution_count": 1,
   "id": "0f740dd4",
   "metadata": {},
   "outputs": [],
   "source": [
    "import random\n"
   ]
  },
  {
   "cell_type": "code",
   "execution_count": 6,
   "id": "040af5a3",
   "metadata": {},
   "outputs": [
    {
     "data": {
      "text/plain": [
       "18"
      ]
     },
     "execution_count": 6,
     "metadata": {},
     "output_type": "execute_result"
    }
   ],
   "source": [
    "# Return single integer between variables\n",
    "random.randint(-90,90)"
   ]
  },
  {
   "cell_type": "code",
   "execution_count": 7,
   "id": "df500ce3",
   "metadata": {},
   "outputs": [
    {
     "data": {
      "text/plain": [
       "0.7892853549563327"
      ]
     },
     "execution_count": 7,
     "metadata": {},
     "output_type": "execute_result"
    }
   ],
   "source": [
    "# Return only a floating-point decimal number between 0 and 1.0\n",
    "random.random()"
   ]
  },
  {
   "cell_type": "code",
   "execution_count": 10,
   "id": "58a512c9",
   "metadata": {},
   "outputs": [
    {
     "data": {
      "text/plain": [
       "-38.58472095418266"
      ]
     },
     "execution_count": 10,
     "metadata": {},
     "output_type": "execute_result"
    }
   ],
   "source": [
    "random_number = random.randint(-90,89) + random.random()\n",
    "random_number"
   ]
  },
  {
   "cell_type": "code",
   "execution_count": 15,
   "id": "887be608",
   "metadata": {},
   "outputs": [
    {
     "name": "stdout",
     "output_type": "stream",
     "text": [
      "[-80.44572009281384, 59.754598353309966, -70.60947238287591, 10.845308111863242, 29.76704506283488, 70.872343101333, 18.43017308196407, -1.2144759336965798, -56.1757627124421, 84.4624703717476]\n"
     ]
    }
   ],
   "source": [
    "x = 1\n",
    "latitudes = []\n",
    "while x < 11:\n",
    "    random_lat = random.randint(-90, 89) + random.random()\n",
    "    latitudes.append(random_lat)\n",
    "    x += 1\n",
    "    \n",
    "print(latitudes)"
   ]
  },
  {
   "cell_type": "code",
   "execution_count": 16,
   "id": "1bdd328d",
   "metadata": {},
   "outputs": [
    {
     "data": {
      "text/plain": [
       "45"
      ]
     },
     "execution_count": 16,
     "metadata": {},
     "output_type": "execute_result"
    }
   ],
   "source": [
    "# randrange() Function\n",
    "random.randrange(-90,90, step=1)"
   ]
  },
  {
   "cell_type": "code",
   "execution_count": 17,
   "id": "4442e9e0",
   "metadata": {},
   "outputs": [
    {
     "data": {
      "text/plain": [
       "6"
      ]
     },
     "execution_count": 17,
     "metadata": {},
     "output_type": "execute_result"
    }
   ],
   "source": [
    "random.randrange(-90,90, step=3)"
   ]
  },
  {
   "cell_type": "code",
   "execution_count": 18,
   "id": "282da3bd",
   "metadata": {},
   "outputs": [
    {
     "data": {
      "text/plain": [
       "-54.18797343391927"
      ]
     },
     "execution_count": 18,
     "metadata": {},
     "output_type": "execute_result"
    }
   ],
   "source": [
    "# uniform() Function\n",
    "random.uniform(-90,90)"
   ]
  },
  {
   "cell_type": "code",
   "execution_count": 19,
   "id": "721e965b",
   "metadata": {},
   "outputs": [],
   "source": [
    "# Import the NumPy module.\n",
    "import numpy as np"
   ]
  },
  {
   "cell_type": "code",
   "execution_count": 20,
   "id": "a8d0468e",
   "metadata": {},
   "outputs": [
    {
     "data": {
      "text/plain": [
       "-9.11731483119263"
      ]
     },
     "execution_count": 20,
     "metadata": {},
     "output_type": "execute_result"
    }
   ],
   "source": [
    "np.random.uniform(-90.000, 90.000)"
   ]
  },
  {
   "cell_type": "code",
   "execution_count": 21,
   "id": "c10bc89e",
   "metadata": {},
   "outputs": [
    {
     "data": {
      "text/plain": [
       "-64.3278644122691"
      ]
     },
     "execution_count": 21,
     "metadata": {},
     "output_type": "execute_result"
    }
   ],
   "source": [
    "np.random.uniform(low=-90, high=90)"
   ]
  },
  {
   "cell_type": "code",
   "execution_count": 22,
   "id": "3b26846d",
   "metadata": {},
   "outputs": [
    {
     "data": {
      "text/plain": [
       "array([-63.07025835, -64.58161752, -53.50553613,  76.77722086,\n",
       "        -4.16402199, -86.02996922, -55.28390496,  62.81565996,\n",
       "       -11.63970574, -54.8521586 ,  -3.28652483,  29.2702941 ,\n",
       "       -51.59855676,  38.02963293,  40.35651897,  13.77322828,\n",
       "       -62.06835285,  58.39682393,  69.40576371, -69.23584155,\n",
       "         9.27726921,  89.6159248 , -61.03134799, -38.16884905,\n",
       "       -53.52399039, -59.0552844 ,  45.68588981, -50.52610756,\n",
       "       -54.70643477,  38.49140525,  24.33658328,   3.95337956,\n",
       "        85.01923939, -38.35664854,  20.37881904, -53.68007824,\n",
       "       -26.02980603,  62.34622476,  42.44347308, -30.34091806,\n",
       "        58.71229439, -81.34123996, -65.57417388, -43.78883843,\n",
       "        73.65688524,  13.31847728,  82.53506758, -73.7358189 ,\n",
       "       -13.6602745 ,  30.6116949 ])"
      ]
     },
     "execution_count": 22,
     "metadata": {},
     "output_type": "execute_result"
    }
   ],
   "source": [
    "# Insert size= for exact number of out put\n",
    "np.random.uniform(-90.000, 90.000, size=50)"
   ]
  },
  {
   "cell_type": "code",
   "execution_count": 23,
   "id": "15ec732d",
   "metadata": {},
   "outputs": [],
   "source": [
    "# Import timeit\n",
    "import timeit "
   ]
  },
  {
   "cell_type": "code",
   "execution_count": 24,
   "id": "a3099131",
   "metadata": {},
   "outputs": [
    {
     "name": "stdout",
     "output_type": "stream",
     "text": [
      "16.2 µs ± 1.02 µs per loop (mean ± std. dev. of 7 runs, 100,000 loops each)\n"
     ]
    }
   ],
   "source": [
    "%timeit np.random.uniform(-90.000, 90.000, size=1500)"
   ]
  },
  {
   "cell_type": "code",
   "execution_count": 25,
   "id": "7dd2a2e8",
   "metadata": {},
   "outputs": [
    {
     "name": "stdout",
     "output_type": "stream",
     "text": [
      "1.63 ms ± 94.7 µs per loop (mean ± std. dev. of 7 runs, 1,000 loops each)\n"
     ]
    }
   ],
   "source": [
    "def latitudes(size):\n",
    "    latitudes = []\n",
    "    x = 0\n",
    "    while x < (size):\n",
    "        random_lat = random.randint(-90,90) + random.random()\n",
    "        latitudes.append(random_lat)\n",
    "        x += 1\n",
    "    return latitudes\n",
    "# Call the function with 1500.\n",
    "%timeit latitudes(1500)"
   ]
  },
  {
   "cell_type": "code",
   "execution_count": null,
   "id": "05e3f1af",
   "metadata": {},
   "outputs": [],
   "source": []
  }
 ],
 "metadata": {
  "kernelspec": {
   "display_name": "PythonData",
   "language": "python",
   "name": "pythondata"
  },
  "language_info": {
   "codemirror_mode": {
    "name": "ipython",
    "version": 3
   },
   "file_extension": ".py",
   "mimetype": "text/x-python",
   "name": "python",
   "nbconvert_exporter": "python",
   "pygments_lexer": "ipython3",
   "version": "3.9.12"
  }
 },
 "nbformat": 4,
 "nbformat_minor": 5
}
